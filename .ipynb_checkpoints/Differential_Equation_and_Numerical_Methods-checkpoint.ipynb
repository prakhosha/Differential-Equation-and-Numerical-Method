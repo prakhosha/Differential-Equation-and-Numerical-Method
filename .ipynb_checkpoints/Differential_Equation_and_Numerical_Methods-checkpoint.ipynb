{
 "cells": [
  {
   "cell_type": "markdown",
   "metadata": {
    "id": "GmAoR30mWFbP"
   },
   "source": [
    "## Modelling and Differential equation\n",
    "\n"
   ]
  },
  {
   "cell_type": "markdown",
   "metadata": {
    "id": "DRXkLhRG4pZq"
   },
   "source": [
    "Research cannot be separated from modelling. Modelling is a mental process with the purpose to better understand what we perceived. There are many ways to model these perception. The simplest way but not easy to notice is language. Language can be used to model what we perceived. We saw that the sun for some reason rises from east days after days. Hence, it is rational if we said that next day, the sun will rises from the sun. We will never know if our model 100% correct. What we can do is to compare one model to another model and see which one is less right if we match with the data. There are many languages we can use. One of them in particular, stand out the most to model what we perceive for the last hundred of years. That language is mathematics."
   ]
  },
  {
   "cell_type": "markdown",
   "metadata": {
    "id": "fCWGMW1P5G-2"
   },
   "source": [
    "What we perceived are called data. Data comes from process. There are many type of process. There is a process of variability. Most often, this type of process is being used to understand the residue of our model, things that can't be explained. One particular process that is interesting in engineering is a process that change continuously. We can see them in our everyday life. A car accelerating in a straight line and slow down in junction before the driver steer the wheel left. Or a gas in a tank heated up to seperate their molecules. Or a seasonal profit of a company from year to year. Not only process that change, we can also model a process that do not change. Before building a house, civil engineers model the house so that the change in every structure of the house equal zero."
   ]
  },
  {
   "cell_type": "markdown",
   "metadata": {
    "id": "H1C3K8rM5Nvf"
   },
   "source": [
    "In mathematics, there is a useful methods to model these kind of process. It is called differential equation. Consider an electrical circuit given by Figure 1. Many real world phenomenons can be modeled using electrical circuit. Not only to model electrical networks, it can also model neurons as its behavior resemble capacitors. The circuit in the figure in particular is called RLC circuit. The circuit has no source and at first the current is 0 and the capacitor voltage is 5 V."
   ]
  },
  {
   "cell_type": "markdown",
   "metadata": {
    "id": "WvOrn8vl5Vun"
   },
   "source": [
    "![Figure 1](\"Figure1.png\")"
   ]
  },
  {
   "cell_type": "markdown",
   "metadata": {
    "id": "5UybqT-Z328R"
   },
   "source": [
    "Using Kirchhoff's law, the mathematical model is"
   ]
  },
  {
   "cell_type": "markdown",
   "metadata": {
    "id": "YpzfPzcE33rE"
   },
   "source": [
    "$$L I^\" + R I' + \\frac{1}{C} I = 0$$"
   ]
  },
  {
   "cell_type": "markdown",
   "metadata": {
    "id": "dr-oIxCL4Qkq"
   },
   "source": [
    "This is a homogeneous ordinary differensial equation (ODE)."
   ]
  },
  {
   "cell_type": "markdown",
   "metadata": {
    "id": "jmqG3PR74ZdR"
   },
   "source": [
    "## Ways to solve ODE analytically are many"
   ]
  },
  {
   "cell_type": "markdown",
   "metadata": {
    "id": "siVHALGq4aDG"
   },
   "source": [
    "Just like in our everday language such as english such as sentence structure, math also has somewhat the same thing as sentence structure called analytics. In analytics, we used our understanding and rule of the sentence to come up with the solution. There are many analytics method. Example of analytics methods. Depend on the form, many people discovered/invent ways to solve it."
   ]
  },
  {
   "cell_type": "markdown",
   "metadata": {
    "id": "FkGXmzjy4hKI"
   },
   "source": [
    "There are many ways to solve differential equation analytically, what follows is just one way on solving this. To solve this, the general solution of is in the form of"
   ]
  },
  {
   "cell_type": "markdown",
   "metadata": {
    "id": "Hs456Enz6-gs"
   },
   "source": [
    "$$I(t) = c_1 e^{\\lambda_1 t} + c_2 e^{\\lambda_2 t}$$"
   ]
  },
  {
   "cell_type": "markdown",
   "metadata": {
    "id": "DiOdqE5V7Wqk"
   },
   "source": [
    "where $\\lambda_1$ and $\\lambda_2$ is the root of characteristic equation"
   ]
  },
  {
   "cell_type": "markdown",
   "metadata": {
    "id": "14HbyajE7oXf"
   },
   "source": [
    "$$L \\lambda^2 + R \\lambda + \\frac{1}{C} = 0$$"
   ]
  },
  {
   "cell_type": "markdown",
   "metadata": {
    "id": "pWPqWrdr790w"
   },
   "source": [
    "If we subtitute $L = 1$, $R = 40$, and $C = 0.01$ we get the value for $\\lambda_1$ and $\\lambda_2$ as"
   ]
  },
  {
   "cell_type": "markdown",
   "metadata": {
    "id": "yC-qjzFq8chD"
   },
   "source": [
    "$$\\lambda_1 = -37.2, \\lambda2 = -2.6$$"
   ]
  },
  {
   "cell_type": "markdown",
   "metadata": {
    "id": "tkztVSCG9ckv"
   },
   "source": [
    "then the general solution is"
   ]
  },
  {
   "cell_type": "markdown",
   "metadata": {
    "id": "sKnN_YEZ9fkd"
   },
   "source": [
    "$$I(t) = c_1 e^{-37.2 t} + c_2 e^{-2.6 t}$$"
   ]
  },
  {
   "cell_type": "markdown",
   "metadata": {
    "id": "oSzgANs-9t0z"
   },
   "source": [
    "The particular solution, specifying the value for $c_1$ and $c_2$, is obtained by subtituting the initial condition to the solution. Differentiating the solution with respect to $t$ result in"
   ]
  },
  {
   "cell_type": "markdown",
   "metadata": {
    "id": "iYBT862hGnO2"
   },
   "source": [
    "$$I'(t) = -37.2 c_1 e^{-37.2 t} - 2.6 c_2 e^{-2.6 t}$$"
   ]
  },
  {
   "cell_type": "markdown",
   "metadata": {
    "id": "It1Dr_VeHBNF"
   },
   "source": [
    "Supposed the initial condition for the system is $I(t) = 10$ and $I'(t) = 2$. Subtituting this the both the solution and its differentiation result in"
   ]
  },
  {
   "cell_type": "markdown",
   "metadata": {
    "id": "KpKfij9wHVs2"
   },
   "source": [
    "$$10 = c_1 + c_2$$"
   ]
  },
  {
   "cell_type": "markdown",
   "metadata": {
    "id": "ntLQ8bl1Hmw9"
   },
   "source": [
    "$$c_2 = 10 - c_1$$"
   ]
  },
  {
   "cell_type": "markdown",
   "metadata": {
    "id": "En3WiBXvHtOW"
   },
   "source": [
    "and"
   ]
  },
  {
   "cell_type": "markdown",
   "metadata": {
    "id": "xulNMqGcHZiu"
   },
   "source": [
    "$$2 = -37.2 c_1 - 2.6 c_2$$"
   ]
  },
  {
   "cell_type": "markdown",
   "metadata": {
    "id": "EEyVZn41HuQ7"
   },
   "source": [
    "$$2 = -37.2 c_1 - 2.6 (10 - c_1)$$"
   ]
  },
  {
   "cell_type": "markdown",
   "metadata": {
    "id": "2bTcru4WHhJN"
   },
   "source": [
    "$$2 = -37.2 c_1 - 26 + 2.6 c_1$$"
   ]
  },
  {
   "cell_type": "markdown",
   "metadata": {
    "id": "HGO2_eTEH-Vi"
   },
   "source": [
    "$$28 = -34.6 c_1$$"
   ]
  },
  {
   "cell_type": "markdown",
   "metadata": {
    "id": "zCuyyHwXIH00"
   },
   "source": [
    "$$c_1 = -0.8$$"
   ]
  },
  {
   "cell_type": "markdown",
   "metadata": {
    "id": "CLnVn-_aIM98"
   },
   "source": [
    "so for $c_2$"
   ]
  },
  {
   "cell_type": "markdown",
   "metadata": {
    "id": "5eCNq4QWIQPu"
   },
   "source": [
    "$$c_2 = 10 - c_1$$"
   ]
  },
  {
   "cell_type": "markdown",
   "metadata": {
    "id": "DDM_jskUITdN"
   },
   "source": [
    "$$c_2 = 10 + 0.8$$"
   ]
  },
  {
   "cell_type": "markdown",
   "metadata": {
    "id": "LLDuOn0uIaED"
   },
   "source": [
    "$$c_2 = 10.8$$"
   ]
  },
  {
   "cell_type": "markdown",
   "metadata": {
    "id": "iNPNmhNfIckC"
   },
   "source": [
    "The solution for the system is"
   ]
  },
  {
   "cell_type": "markdown",
   "metadata": {
    "id": "B2pbQtnyIhAi"
   },
   "source": [
    "$$I(t) = -0.8 e^{-37.2 t} + 10.8 e^{-2.6 t}$$"
   ]
  },
  {
   "cell_type": "markdown",
   "metadata": {
    "id": "cT2MmEuiIvyh"
   },
   "source": [
    "this solution can be plotted from $t = 0$ to $t = 1$"
   ]
  },
  {
   "cell_type": "code",
   "execution_count": 2,
   "metadata": {
    "colab": {
     "base_uri": "https://localhost:8080/",
     "height": 489
    },
    "id": "IxKhenWJJx_j",
    "outputId": "54e7a2e6-4fa7-40d7-af16-12db4d334b6c"
   },
   "outputs": [
    {
     "data": {
      "text/plain": [
       "Text(0, 0.5, 'I')"
      ]
     },
     "execution_count": 2,
     "metadata": {},
     "output_type": "execute_result"
    },
    {
     "data": {
      "image/png": "[encoded data removed]",
      "text/plain": [
       "<Figure size 640x480 with 1 Axes>"
      ]
     },
     "metadata": {},
     "output_type": "display_data"
    }
   ],
   "source": [
    "import numpy as np\n",
    "import matplotlib.pyplot as plt\n",
    "\n",
    "t = np.arange(0, 1, 0.01)\n",
    "I = -0.8*np.exp(-37.2 * t) + 10.8*np.exp(-2.6 * t)\n",
    "\n",
    "plt.plot(t,I)\n",
    "plt.title(\"Analytical solution for the RLC system\")\n",
    "plt.xlabel(\"t\")\n",
    "plt.ylabel(\"I\")"
   ]
  },
  {
   "cell_type": "markdown",
   "metadata": {
    "id": "acNPvZqrWp9E"
   },
   "source": [
    "As you can see, by modeling the process as mathematical model using calculus, we can study the process behavior."
   ]
  },
  {
   "cell_type": "markdown",
   "metadata": {
    "id": "0nzr8UOoWOm-"
   },
   "source": [
    "## Numerical methods and why it used to solve ODE"
   ]
  },
  {
   "cell_type": "markdown",
   "metadata": {
    "id": "V2CBYjdJWR50"
   },
   "source": [
    "Unfortunately, there are several differential equations that can not be solved analyticaly. The normal distribution model, for example, cannot be solved analytically."
   ]
  },
  {
   "cell_type": "markdown",
   "metadata": {
    "id": "8GHOa_qcWVYG"
   },
   "source": [
    "In this case, what we can do is approximate the solution so the approximated solution be as close as possible to the true solution (which we never know). This method is called numerical methods. Of course because it is only an approximation, there will be disrepancy between the true solution and the approximated solution. The disrepancy is called error and it relate to the bias and variance of the estimator/methods. Same as analytical solution, there are many numerical methods we can use."
   ]
  },
  {
   "cell_type": "markdown",
   "metadata": {
    "id": "FIZDtvv2sAEK"
   },
   "source": [
    "In our problem, we can replace the analytic solution with numerical solution using Runge-Kutta method as implemented below. Runge-Kutta returns a family of solution rather than specific solution, so there are types of Runge-Kutta methods. I think more on Runge-Kutta should be written on different journal. Nevertheless, the Runge-Kutta family that I am going to use is the fourth order Runge-Kutta. The fourth order Runge-Kutta approximate the next value based on"
   ]
  },
  {
   "cell_type": "markdown",
   "metadata": {
    "id": "Z-DO6y9oeRKD"
   },
   "source": [
    "$$y_{i+1} = y_i + \\frac{1}{6}(k_1 + 2k_2 + 2k_3 + k_4)h$$"
   ]
  },
  {
   "cell_type": "markdown",
   "metadata": {
    "id": "GQHT_LiUe2Ck"
   },
   "source": [
    "where"
   ]
  },
  {
   "cell_type": "markdown",
   "metadata": {
    "id": "MfaIKckoe3ER"
   },
   "source": [
    "$$k_1 = f(x_i, y_i)$$"
   ]
  },
  {
   "cell_type": "markdown",
   "metadata": {
    "id": "OAmNoIhRn_MZ"
   },
   "source": [
    "$$k_2 = f(x_i + 0.5h, y_i + 0.5k_1h)$$"
   ]
  },
  {
   "cell_type": "markdown",
   "metadata": {
    "id": "VQxGrDbUoLi5"
   },
   "source": [
    "$$k_3 = f(x_i + 0.5h, y_i + 0.5k_2h)$$"
   ]
  },
  {
   "cell_type": "markdown",
   "metadata": {
    "id": "nAoPO6bnoYC_"
   },
   "source": [
    "$$k4 = f(x_i + h, y_i + k_3h)$$"
   ]
  },
  {
   "cell_type": "markdown",
   "metadata": {
    "id": "h7jsIzjloiJS"
   },
   "source": [
    "In the case of second order ODE, we can transform the system into two first order ODE"
   ]
  },
  {
   "cell_type": "markdown",
   "metadata": {
    "id": "Z6EUUb4vov9e"
   },
   "source": [
    "$$z_1 = y$$"
   ]
  },
  {
   "cell_type": "markdown",
   "metadata": {
    "id": "VHShiOv3o27n"
   },
   "source": [
    "$$z_2 = y'  = z_1'$$"
   ]
  },
  {
   "cell_type": "markdown",
   "metadata": {
    "id": "Wv3i22gupHEI"
   },
   "source": [
    "Our RLC system then becomes"
   ]
  },
  {
   "cell_type": "markdown",
   "metadata": {
    "id": "Om8capy-pJrI"
   },
   "source": [
    "$$z_2' = I'' = -\\frac{R}{L} z_2 - \\frac{1}{CL} z_1$$"
   ]
  },
  {
   "cell_type": "markdown",
   "metadata": {
    "id": "ZdLtYirDprYJ"
   },
   "source": [
    "$$z_1' = z_2$$"
   ]
  },
  {
   "cell_type": "code",
   "execution_count": 4,
   "metadata": {
    "id": "LDX-G--ed74v"
   },
   "outputs": [],
   "source": [
    "h = 0.01\n",
    "\n",
    "# space of solutions\n",
    "z1 = np.zeros_like(t)\n",
    "z2 = np.zeros_like(t)\n",
    "\n",
    "# initial conditions\n",
    "z1[0] = 10\n",
    "z2[0] = 2\n",
    "\n",
    "# differential equations\n",
    "def derivatives(z1, z2):\n",
    "  return [z2, (-40*z2)-(100*z1)]\n",
    "\n",
    "# fourth order runge-kutta\n",
    "for i, time in enumerate(t):\n",
    "  if i+1 != len(t):\n",
    "    ym11 = h*z1[i]\n",
    "    ym12 = h*z2[i]\n",
    "    k11, k12 = np.multiply(h, derivatives(z1[i], z2[i]))\n",
    "\n",
    "    ym21 = h*(z1[i] + 0.5*k11)\n",
    "    ym22 = h*(z2[i] + 0.5*k12)\n",
    "    k21, k22 = np.multiply(h, derivatives(z1[i] + 0.5*ym11, z2[i] + 0.5*k11))\n",
    "\n",
    "    ym31 = h*(z1[i] + 0.5*k21)\n",
    "    ym32 = h*(z2[i] + 0.5*k22)\n",
    "    k31, k32 = np.multiply(h, derivatives(z1[i] + 0.5*ym21, z2[i] + 0.5*k21))\n",
    "\n",
    "    ym41 = h*(z1[i] + k31)\n",
    "    ym42 = h*(z2[i] + k32)\n",
    "    k41, k42 = np.multiply(h, derivatives(z1[i] + ym31, z2[i] + k31))\n",
    "\n",
    "    z1[i+1] = z1[i] + (k11 + 2*k21 + 2*k31 + k41)/6\n",
    "    z2[i+1] = z2[i] + (k21 + 2*k22 + 2*k32 + k42)/6"
   ]
  },
  {
   "cell_type": "code",
   "execution_count": 5,
   "metadata": {
    "colab": {
     "base_uri": "https://localhost:8080/",
     "height": 489
    },
    "id": "LX83-knkPKk3",
    "outputId": "f84c48e6-6379-4887-b0a4-2e6a54a7099c"
   },
   "outputs": [
    {
     "data": {
      "text/plain": [
       "Text(0, 0.5, 'I')"
      ]
     },
     "execution_count": 5,
     "metadata": {},
     "output_type": "execute_result"
    },
    {
     "data": {
      "image/png": "[encoded data removed]",
      "text/plain": [
       "<Figure size 640x480 with 1 Axes>"
      ]
     },
     "metadata": {},
     "output_type": "display_data"
    }
   ],
   "source": [
    "plt.plot(t, z1, color='r', label=\"Numerical solution\")\n",
    "plt.plot(t, I, color='b', label='Analytical solution')\n",
    "plt.legend()\n",
    "plt.title(\"Solutions for the RLC system\")\n",
    "plt.xlabel(\"t\")\n",
    "plt.ylabel(\"I\")"
   ]
  },
  {
   "cell_type": "markdown",
   "metadata": {
    "id": "n8GEdKZnb1Oq"
   },
   "source": [
    "## After thought\n",
    "\n",
    "What interesting is that these days, more and more numerical methods are being used to solve world problems. As discussed earlier, it will never be the solution because it is only an approximation. Though for most system in engineering the error could be disregard if it small enough, for other system such as chaotic system, in which the system is sensitive to initial condition, this error could be huge. Hence, more and more research and thought should be done in said field."
   ]
  },
  {
   "cell_type": "markdown",
   "metadata": {
    "id": "k9hfb5xwdC2g"
   },
   "source": [
    "## Reference\n",
    "\n",
    "- Erwin Kreyzig, Advanced Engineering Mathematics\n",
    "- Steven Chapra and Raymond Canale, Numerical Methods for Engineers"
   ]
  }
 ],
 "metadata": {
  "colab": {
   "provenance": []
  },
  "kernelspec": {
   "display_name": "Python 3 (ipykernel)",
   "language": "python",
   "name": "python3"
  },
  "language_info": {
   "codemirror_mode": {
    "name": "ipython",
    "version": 3
   },
   "file_extension": ".py",
   "mimetype": "text/x-python",
   "name": "python",
   "nbconvert_exporter": "python",
   "pygments_lexer": "ipython3",
   "version": "3.11.4"
  }
 },
 "nbformat": 4,
 "nbformat_minor": 4
}
